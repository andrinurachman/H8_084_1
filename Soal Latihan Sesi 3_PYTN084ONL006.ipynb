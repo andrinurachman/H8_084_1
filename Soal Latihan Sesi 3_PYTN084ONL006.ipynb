{
 "cells": [
  {
   "cell_type": "code",
   "execution_count": 1,
   "id": "1de52703",
   "metadata": {},
   "outputs": [],
   "source": [
    "def Soal1():\n",
    "    num = int(input(\"Masukkan angka: \"))  \n",
    "    if num < 0:\n",
    "        print(\"Tolong masukkan input bilangan POSITIF!!\")\n",
    "    elif num == 0:\n",
    "        print(\"0 bukanlah bilangan GANJIL atau GENAP\".format(num))\n",
    "    elif (num % 2) == 0:  \n",
    "       print(\"Bilangan {0} tergolong bilangan GENAP\".format(num))  \n",
    "    else:  \n",
    "       print(\"Bilangan {0} tergolong bilangan GANJIL\".format(num)) "
   ]
  },
  {
   "cell_type": "code",
   "execution_count": 2,
   "id": "0b115261",
   "metadata": {},
   "outputs": [
    {
     "name": "stdout",
     "output_type": "stream",
     "text": [
      "Masukkan angka: 0\n",
      "0 bukanlah bilangan GANJIL atau GENAP\n"
     ]
    }
   ],
   "source": [
    "Soal1()"
   ]
  },
  {
   "cell_type": "code",
   "execution_count": 3,
   "id": "17496a00",
   "metadata": {},
   "outputs": [
    {
     "name": "stdout",
     "output_type": "stream",
     "text": [
      "Masukkan angka: -1\n",
      "Tolong masukkan input bilangan POSITIF!!\n"
     ]
    }
   ],
   "source": [
    "Soal1()"
   ]
  },
  {
   "cell_type": "code",
   "execution_count": 4,
   "id": "fcf7fe76",
   "metadata": {},
   "outputs": [
    {
     "name": "stdout",
     "output_type": "stream",
     "text": [
      "Masukkan angka: 2\n",
      "Bilangan 2 tergolong bilangan GENAP\n"
     ]
    }
   ],
   "source": [
    "Soal1()"
   ]
  },
  {
   "cell_type": "code",
   "execution_count": 5,
   "id": "563845e9",
   "metadata": {},
   "outputs": [
    {
     "name": "stdout",
     "output_type": "stream",
     "text": [
      "Masukkan angka: 3\n",
      "Bilangan 3 tergolong bilangan GANJIL\n"
     ]
    }
   ],
   "source": [
    "Soal1()"
   ]
  },
  {
   "cell_type": "code",
   "execution_count": 6,
   "id": "77d4d07e",
   "metadata": {},
   "outputs": [],
   "source": [
    "def Soal2():\n",
    "    print(\"Masukkan Angka 1 untuk menghitung luas segitiga\")\n",
    "    print(\"Masukkan Angka 2 untuk menghitung luas persegi\")\n",
    "    num = int(input(\"Pilihan Menu Yang Diinginkan: \"))  \n",
    "    if num == 1:\n",
    "        a = int(input(\"Masukkan Tinggi Segitiga: \"))\n",
    "        b = int(input(\"Masukkan Alas Segitiga: \"))\n",
    "        c = a*b/2\n",
    "        print (\"Luas Segitiga Tersebut Adalah\", c)\n",
    "            \n",
    "    elif num == 2:\n",
    "        a = int(input(\"Masukkan Panjang Persegi: \"))\n",
    "        b = int(input(\"Masukkan Lebar Persegi: \"))\n",
    "        c = a*b\n",
    "        print (\"Luas Persegi Tersebut Adalah\", c)  \n",
    "    else:  \n",
    "       print(\"Masukkan Inputan yang Benar\") "
   ]
  },
  {
   "cell_type": "code",
   "execution_count": 7,
   "id": "6c83c3e8",
   "metadata": {},
   "outputs": [
    {
     "name": "stdout",
     "output_type": "stream",
     "text": [
      "Masukkan Angka 1 untuk menghitung luas segitiga\n",
      "Masukkan Angka 2 untuk menghitung luas persegi\n",
      "Pilihan Menu Yang Diinginkan: 1\n",
      "Masukkan Tinggi Segitiga: 3\n",
      "Masukkan Alas Segitiga: 4\n",
      "Luas Segitiga Tersebut Adalah 6.0\n"
     ]
    }
   ],
   "source": [
    "Soal2()"
   ]
  },
  {
   "cell_type": "code",
   "execution_count": 8,
   "id": "7f526d2b",
   "metadata": {},
   "outputs": [
    {
     "name": "stdout",
     "output_type": "stream",
     "text": [
      "Masukkan Angka 1 untuk menghitung luas segitiga\n",
      "Masukkan Angka 2 untuk menghitung luas persegi\n",
      "Pilihan Menu Yang Diinginkan: 2\n",
      "Masukkan Panjang Persegi: 3\n",
      "Masukkan Lebar Persegi: 4\n",
      "Luas Persegi Tersebut Adalah 12\n"
     ]
    }
   ],
   "source": [
    "Soal2()"
   ]
  },
  {
   "cell_type": "code",
   "execution_count": 9,
   "id": "d1c0e79d",
   "metadata": {},
   "outputs": [],
   "source": [
    "def Soal3():\n",
    "\n",
    "    number_of_days = int(input(\"Masukkan jumlah hari: \"))\n",
    "    years = number_of_days // 360\n",
    "    months = (number_of_days - years *360) // 30\n",
    "    weeks = (number_of_days - years *360 -months*30) // 7\n",
    "    days = (number_of_days - years * 360 -months*30 - weeks*7) \n",
    "    print (number_of_days,\"hari =\",years,\"tahun\",months,\"bulan\",weeks,\"minggu\",days,\"hari\")"
   ]
  },
  {
   "cell_type": "code",
   "execution_count": 10,
   "id": "d86b2a6e",
   "metadata": {},
   "outputs": [
    {
     "name": "stdout",
     "output_type": "stream",
     "text": [
      "Masukkan jumlah hari: 398\n",
      "398 hari = 1 tahun 1 bulan 1 minggu 1 hari\n"
     ]
    }
   ],
   "source": [
    "Soal3()"
   ]
  },
  {
   "cell_type": "code",
   "execution_count": 12,
   "id": "ad430910",
   "metadata": {},
   "outputs": [
    {
     "name": "stdout",
     "output_type": "stream",
     "text": [
      "Masukkan jumlah hari: 14\n",
      "14 hari = 0 tahun 0 bulan 2 minggu 0 hari\n"
     ]
    }
   ],
   "source": [
    "Soal3()"
   ]
  },
  {
   "cell_type": "code",
   "execution_count": 13,
   "id": "50821a43",
   "metadata": {},
   "outputs": [
    {
     "name": "stdout",
     "output_type": "stream",
     "text": [
      "Masukkan jumlah hari: 15\n",
      "15 hari = 0 tahun 0 bulan 2 minggu 1 hari\n"
     ]
    }
   ],
   "source": [
    "Soal3()"
   ]
  },
  {
   "cell_type": "code",
   "execution_count": null,
   "id": "82057336",
   "metadata": {},
   "outputs": [],
   "source": []
  }
 ],
 "metadata": {
  "kernelspec": {
   "display_name": "Python 3 (ipykernel)",
   "language": "python",
   "name": "python3"
  },
  "language_info": {
   "codemirror_mode": {
    "name": "ipython",
    "version": 3
   },
   "file_extension": ".py",
   "mimetype": "text/x-python",
   "name": "python",
   "nbconvert_exporter": "python",
   "pygments_lexer": "ipython3",
   "version": "3.9.12"
  }
 },
 "nbformat": 4,
 "nbformat_minor": 5
}
