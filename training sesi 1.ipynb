{
 "cells": [
  {
   "cell_type": "code",
   "execution_count": 5,
   "id": "2ce7c949",
   "metadata": {},
   "outputs": [
    {
     "name": "stdout",
     "output_type": "stream",
     "text": [
      "123\n",
      "123\n",
      "<class 'int'>\n"
     ]
    }
   ],
   "source": [
    "x = 123\n",
    "print(123)\n",
    "print (x)\n",
    "print (type(x))"
   ]
  },
  {
   "cell_type": "code",
   "execution_count": 8,
   "id": "10e3397b",
   "metadata": {},
   "outputs": [
    {
     "name": "stdout",
     "output_type": "stream",
     "text": [
      "4.0\n",
      "4000.0\n",
      "<class 'float'>\n"
     ]
    }
   ],
   "source": [
    "x = 4.0\n",
    "y = 4e3\n",
    "print (x)\n",
    "print (y)\n",
    "print(type(x))\n"
   ]
  },
  {
   "cell_type": "code",
   "execution_count": 9,
   "id": "323815ab",
   "metadata": {},
   "outputs": [
    {
     "name": "stdout",
     "output_type": "stream",
     "text": [
      "test\n",
      "<class 'str'>\n"
     ]
    }
   ],
   "source": [
    "x = \"test\"\n",
    "print (x)\n",
    "print(type(x))"
   ]
  },
  {
   "cell_type": "code",
   "execution_count": 10,
   "id": "831885b9",
   "metadata": {},
   "outputs": [
    {
     "name": "stdout",
     "output_type": "stream",
     "text": [
      "<class 'bool'>\n"
     ]
    }
   ],
   "source": [
    "x = True\n",
    "print (type(x))"
   ]
  },
  {
   "cell_type": "code",
   "execution_count": 11,
   "id": "d4ca504b",
   "metadata": {},
   "outputs": [
    {
     "name": "stdout",
     "output_type": "stream",
     "text": [
      "300 300 300\n"
     ]
    }
   ],
   "source": [
    "a = b = c = 300\n",
    "print(a,b,c)"
   ]
  },
  {
   "cell_type": "code",
   "execution_count": 12,
   "id": "a0c2fee7",
   "metadata": {},
   "outputs": [
    {
     "name": "stdout",
     "output_type": "stream",
     "text": [
      "5.0\n",
      "ini string\n"
     ]
    }
   ],
   "source": [
    "var = 5.0\n",
    "print(var)\n",
    "\n",
    "var = 'ini string'\n",
    "print (var)"
   ]
  },
  {
   "cell_type": "code",
   "execution_count": 14,
   "id": "6e11271b",
   "metadata": {
    "scrolled": true
   },
   "outputs": [
    {
     "name": "stdout",
     "output_type": "stream",
     "text": [
      "1 2\n"
     ]
    }
   ],
   "source": [
    "age = 1\n",
    "Age = 2 \n",
    "print (age, Age)"
   ]
  },
  {
   "cell_type": "code",
   "execution_count": 36,
   "id": "b81b5ceb",
   "metadata": {},
   "outputs": [
    {
     "name": "stdout",
     "output_type": "stream",
     "text": [
      "Hacktiv8\n",
      "HACKTIV8\n",
      "hacktiv8\n",
      "hACKtiv8\n"
     ]
    }
   ],
   "source": [
    "x = 'HackTIV8'\n",
    "print(x.capitalize())\n",
    "print(x.upper())\n",
    "print(x.lower())\n",
    "print(x.swapcase())"
   ]
  },
  {
   "cell_type": "code",
   "execution_count": 42,
   "id": "41013145",
   "metadata": {},
   "outputs": [
    {
     "name": "stdout",
     "output_type": "stream",
     "text": [
      "['foo', 'fighter', 'for', 'salvation', 'amen', 'baby']\n",
      "\n",
      "foo baby fighter\n"
     ]
    }
   ],
   "source": [
    "a= ['foo','fighter','for','salvation']\n",
    "b = ['amen', 'baby']\n",
    "c = a +b\n",
    "print(c)\n",
    "print()\n",
    "print(a[0], b[1], a[-3])"
   ]
  },
  {
   "cell_type": "code",
   "execution_count": 45,
   "id": "75c89507",
   "metadata": {},
   "outputs": [
    {
     "name": "stdout",
     "output_type": "stream",
     "text": [
      "['for', 'salvation']\n"
     ]
    }
   ],
   "source": [
    "print(a[2:4])"
   ]
  },
  {
   "cell_type": "code",
   "execution_count": 46,
   "id": "84cefa6b",
   "metadata": {},
   "outputs": [
    {
     "name": "stdout",
     "output_type": "stream",
     "text": [
      "['foo', 'fighter', 'for', 'salvation', 'foo', 'fighter', 'for', 'salvation']\n"
     ]
    }
   ],
   "source": [
    "print (a*2)"
   ]
  },
  {
   "cell_type": "code",
   "execution_count": 51,
   "id": "17389841",
   "metadata": {},
   "outputs": [
    {
     "name": "stdout",
     "output_type": "stream",
     "text": [
      "['ganti', 'fighter', 'for']\n"
     ]
    }
   ],
   "source": [
    "a= ['foo','fighter','for','salvation']\n",
    "a[0] = 'ganti'\n",
    "del(a[3])\n",
    "print (a)"
   ]
  },
  {
   "cell_type": "code",
   "execution_count": 57,
   "id": "84f1cbfc",
   "metadata": {},
   "outputs": [
    {
     "data": {
      "text/plain": [
       "'foo'"
      ]
     },
     "execution_count": 57,
     "metadata": {},
     "output_type": "execute_result"
    }
   ],
   "source": [
    "(x1,x2,x3,x4) = (\"foo\",2,3,4)\n",
    "\n",
    "x1"
   ]
  },
  {
   "cell_type": "code",
   "execution_count": 58,
   "id": "48fdb58c",
   "metadata": {},
   "outputs": [],
   "source": [
    "person = {}\n",
    "type(person)\n",
    "\n",
    "person['fname'] = 'Hack'\n",
    "person['lname'] = 'PTP'\n",
    "person['age'] = 51\n",
    "person['spouse'] = 'Edna'\n",
    "person['children'] = ['Ralph', 'Betty', 'Joey']\n",
    "person['pets'] = {'dog': 'Fido', 'cat': 'Sox'}"
   ]
  },
  {
   "cell_type": "code",
   "execution_count": 59,
   "id": "906605e6",
   "metadata": {},
   "outputs": [
    {
     "data": {
      "text/plain": [
       "{'fname': 'Hack',\n",
       " 'lname': 'PTP',\n",
       " 'age': 51,\n",
       " 'spouse': 'Edna',\n",
       " 'children': ['Ralph', 'Betty', 'Joey'],\n",
       " 'pets': {'dog': 'Fido', 'cat': 'Sox'}}"
      ]
     },
     "execution_count": 59,
     "metadata": {},
     "output_type": "execute_result"
    }
   ],
   "source": [
    "person\n"
   ]
  },
  {
   "cell_type": "code",
   "execution_count": 60,
   "id": "084b6788",
   "metadata": {},
   "outputs": [
    {
     "name": "stdout",
     "output_type": "stream",
     "text": [
      "Hack\n",
      "PTP\n"
     ]
    }
   ],
   "source": [
    "print(person['fname'])\n",
    "print(person['lname'])\n"
   ]
  },
  {
   "cell_type": "code",
   "execution_count": null,
   "id": "e5e6cd37",
   "metadata": {},
   "outputs": [],
   "source": []
  }
 ],
 "metadata": {
  "kernelspec": {
   "display_name": "Python 3 (ipykernel)",
   "language": "python",
   "name": "python3"
  },
  "language_info": {
   "codemirror_mode": {
    "name": "ipython",
    "version": 3
   },
   "file_extension": ".py",
   "mimetype": "text/x-python",
   "name": "python",
   "nbconvert_exporter": "python",
   "pygments_lexer": "ipython3",
   "version": "3.9.12"
  }
 },
 "nbformat": 4,
 "nbformat_minor": 5
}
