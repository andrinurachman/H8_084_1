{
 "cells": [
  {
   "cell_type": "code",
   "execution_count": 54,
   "id": "9a849ae1",
   "metadata": {},
   "outputs": [],
   "source": [
    "def soal1():\n",
    "    import numpy as np\n",
    "    mulai = int (input('Mulai :'))\n",
    "    selesai = int (input('Selesai :'))\n",
    "    print('1 dimensi')\n",
    "    dimension_1 = np.arange(mulai, selesai)\n",
    "    jumlah = int(len(dimension_1))\n",
    "    print(dimension_1)\n",
    "    print('2 dimensi')\n",
    "    dimension_2 = dimension_1.reshape(3,int(jumlah/3))\n",
    "    print(dimension_2)\n",
    "    dimension_3 = dimension_2.reshape(3,3,3)\n",
    "    print('3 dimensi')\n",
    "    print(dimension_3)\n",
    "    return;"
   ]
  },
  {
   "cell_type": "code",
   "execution_count": 77,
   "id": "7770720e",
   "metadata": {},
   "outputs": [
    {
     "name": "stdout",
     "output_type": "stream",
     "text": [
      "Mulai :1\n",
      "Selesai :28\n",
      "1 dimensi\n",
      "[ 1  2  3  4  5  6  7  8  9 10 11 12 13 14 15 16 17 18 19 20 21 22 23 24\n",
      " 25 26 27]\n",
      "2 dimensi\n",
      "[[ 1  2  3  4  5  6  7  8  9]\n",
      " [10 11 12 13 14 15 16 17 18]\n",
      " [19 20 21 22 23 24 25 26 27]]\n",
      "3 dimensi\n",
      "[[[ 1  2  3]\n",
      "  [ 4  5  6]\n",
      "  [ 7  8  9]]\n",
      "\n",
      " [[10 11 12]\n",
      "  [13 14 15]\n",
      "  [16 17 18]]\n",
      "\n",
      " [[19 20 21]\n",
      "  [22 23 24]\n",
      "  [25 26 27]]]\n"
     ]
    }
   ],
   "source": [
    "soal1()"
   ]
  },
  {
   "cell_type": "code",
   "execution_count": 81,
   "id": "d067f96c",
   "metadata": {},
   "outputs": [],
   "source": [
    "\n",
    "def Soal2():\n",
    "    import random\n",
    "    Input = int(input('Banyak Data :'))\n",
    "    mulai = int(input('Mulai angka :'))\n",
    "    selesai = int(input('Selesai angka :'))\n",
    "    #Bikin list integer random dari inputan\n",
    "    intlist = []\n",
    "    for x in range(Input):\n",
    "        n = random.randint(mulai, selesai)\n",
    "        intlist.append(n)\n",
    "\n",
    "    arrlist = np.array(intlist)\n",
    "    print('1 dimensi random')\n",
    "    print(arrlist)\n",
    "    print('2 dimensi')\n",
    "    dimensi_2 = arrlist.reshape(4,4)\n",
    "    print(dimensi_2)\n",
    "    print('ini dibalik 2 dimensi')\n",
    "    dimensi_2_balik = dimensi_2[:,::-1]\n",
    "    print(dimensi_2_balik)\n",
    "    return;\n"
   ]
  },
  {
   "cell_type": "code",
   "execution_count": 83,
   "id": "137a6893",
   "metadata": {},
   "outputs": [
    {
     "name": "stdout",
     "output_type": "stream",
     "text": [
      "Banyak Data :16\n",
      "Mulai angka :1\n",
      "Selesai angka :50\n",
      "1 dimensi random\n",
      "[ 8 20 16 36 31 41  5 19 23 46 46 44  3 42 42 29]\n",
      "2 dimensi\n",
      "[[ 8 20 16 36]\n",
      " [31 41  5 19]\n",
      " [23 46 46 44]\n",
      " [ 3 42 42 29]]\n",
      "ini dibalik 2 dimensi\n",
      "[[36 16 20  8]\n",
      " [19  5 41 31]\n",
      " [44 46 46 23]\n",
      " [29 42 42  3]]\n"
     ]
    }
   ],
   "source": [
    "Soal2()"
   ]
  },
  {
   "cell_type": "code",
   "execution_count": 109,
   "id": "17377ecb",
   "metadata": {},
   "outputs": [
    {
     "data": {
      "text/plain": [
       "array([[4., 4., 4., 4., 4., 4., 4., 4., 4., 4.],\n",
       "       [4., 0., 0., 0., 0., 0., 0., 0., 0., 4.],\n",
       "       [4., 0., 0., 0., 0., 0., 0., 0., 0., 4.],\n",
       "       [4., 0., 0., 0., 0., 0., 0., 0., 0., 4.],\n",
       "       [4., 0., 0., 0., 0., 0., 0., 0., 0., 4.],\n",
       "       [4., 0., 0., 0., 0., 0., 0., 0., 0., 4.],\n",
       "       [4., 0., 0., 0., 0., 0., 0., 0., 0., 4.],\n",
       "       [4., 0., 0., 0., 0., 0., 0., 0., 0., 4.],\n",
       "       [4., 0., 0., 0., 0., 0., 0., 0., 0., 4.],\n",
       "       [4., 4., 4., 4., 4., 4., 4., 4., 4., 4.]])"
      ]
     },
     "execution_count": 109,
     "metadata": {},
     "output_type": "execute_result"
    }
   ],
   "source": [
    "x=np.ones((10,10))*4\n",
    "#print(x)\n",
    "x[1:-1,1:-1]=0\n",
    "#x[1:9,1:9]\n",
    "x"
   ]
  },
  {
   "cell_type": "code",
   "execution_count": null,
   "id": "2f9d95f3",
   "metadata": {},
   "outputs": [],
   "source": []
  }
 ],
 "metadata": {
  "kernelspec": {
   "display_name": "Python 3 (ipykernel)",
   "language": "python",
   "name": "python3"
  },
  "language_info": {
   "codemirror_mode": {
    "name": "ipython",
    "version": 3
   },
   "file_extension": ".py",
   "mimetype": "text/x-python",
   "name": "python",
   "nbconvert_exporter": "python",
   "pygments_lexer": "ipython3",
   "version": "3.9.12"
  }
 },
 "nbformat": 4,
 "nbformat_minor": 5
}
