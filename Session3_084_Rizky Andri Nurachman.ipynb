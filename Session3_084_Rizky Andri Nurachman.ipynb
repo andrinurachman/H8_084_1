{
 "cells": [
  {
   "cell_type": "code",
   "execution_count": 1,
   "id": "aa3513a2",
   "metadata": {},
   "outputs": [],
   "source": [
    "def my_function(p, l):\n",
    "    \"Function untuk mengitung luas\"\n",
    "    print(p * l)"
   ]
  },
  {
   "cell_type": "code",
   "execution_count": 2,
   "id": "2b52bd04",
   "metadata": {},
   "outputs": [
    {
     "name": "stdout",
     "output_type": "stream",
     "text": [
      "8\n"
     ]
    }
   ],
   "source": [
    "my_function(2,4)"
   ]
  },
  {
   "cell_type": "code",
   "execution_count": 3,
   "id": "391b57af",
   "metadata": {},
   "outputs": [],
   "source": [
    "def printme( str ):\n",
    "   \"This prints a passed string into this function\"\n",
    "   print(str)\n",
    "   return\n"
   ]
  },
  {
   "cell_type": "code",
   "execution_count": 4,
   "id": "22fd11f3",
   "metadata": {},
   "outputs": [
    {
     "name": "stdout",
     "output_type": "stream",
     "text": [
      "I'm first call to user defined function!\n",
      "Again second call to the same function\n"
     ]
    }
   ],
   "source": [
    "# Function definition is here\n",
    "def printme( str ):\n",
    "   \"This prints a passed string into this function\"\n",
    "   print(str)\n",
    "   return;\n",
    "\n",
    "# Now you can call printme function\n",
    "printme(\"I'm first call to user defined function!\")\n",
    "printme(\"Again second call to the same function\")"
   ]
  },
  {
   "cell_type": "code",
   "execution_count": 5,
   "id": "131ea8eb",
   "metadata": {},
   "outputs": [
    {
     "name": "stdout",
     "output_type": "stream",
     "text": [
      "Values inside the function:  [10, 20, 30, [1, 2, 3, 4]]\n",
      "Values outside the function:  [10, 20, 30, [1, 2, 3, 4]]\n"
     ]
    }
   ],
   "source": [
    "# Function definition is here\n",
    "def changeme( mylist ):\n",
    "   \"This changes a passed list into this function\"\n",
    "   mylist.append([1,2,3,4]);\n",
    "   print(\"Values inside the function: \", mylist)\n",
    "   return\n",
    "\n",
    "# Now you can call changeme function\n",
    "mylist = [10,20,30];\n",
    "changeme( mylist );\n",
    "print(\"Values outside the function: \", mylist)"
   ]
  },
  {
   "cell_type": "code",
   "execution_count": 6,
   "id": "e1310554",
   "metadata": {},
   "outputs": [
    {
     "name": "stdout",
     "output_type": "stream",
     "text": [
      "Values inside the function:  [1, 2, 3, 4]\n",
      "Values outside the function:  [10, 20, 30]\n"
     ]
    }
   ],
   "source": [
    "# Function definition is here\n",
    "def changeme( mylist ):\n",
    "   \"This changes a passed list into this function\"\n",
    "   mylist = [1,2,3,4]; # This would assig new reference in mylist\n",
    "   print(\"Values inside the function: \", mylist)\n",
    "   return\n",
    "\n",
    "# Now you can call changeme function\n",
    "mylist = [10,20,30];\n",
    "changeme( mylist );\n",
    "print(\"Values outside the function: \", mylist)"
   ]
  },
  {
   "cell_type": "code",
   "execution_count": 7,
   "id": "51b9f320",
   "metadata": {},
   "outputs": [
    {
     "ename": "TypeError",
     "evalue": "printme() missing 1 required positional argument: 'str'",
     "output_type": "error",
     "traceback": [
      "\u001b[1;31m---------------------------------------------------------------------------\u001b[0m",
      "\u001b[1;31mTypeError\u001b[0m                                 Traceback (most recent call last)",
      "Input \u001b[1;32mIn [7]\u001b[0m, in \u001b[0;36m<cell line: 8>\u001b[1;34m()\u001b[0m\n\u001b[0;32m      5\u001b[0m    \u001b[38;5;28;01mreturn\u001b[39;00m;\n\u001b[0;32m      7\u001b[0m \u001b[38;5;66;03m# Now you can call printme function\u001b[39;00m\n\u001b[1;32m----> 8\u001b[0m \u001b[43mprintme\u001b[49m\u001b[43m(\u001b[49m\u001b[43m)\u001b[49m\n",
      "\u001b[1;31mTypeError\u001b[0m: printme() missing 1 required positional argument: 'str'"
     ]
    }
   ],
   "source": [
    "# Function definition is here\n",
    "def printme( str ):\n",
    "   \"This prints a passed string into this function\"\n",
    "   print(str)\n",
    "   return;\n",
    "\n",
    "# Now you can call printme function\n",
    "printme()"
   ]
  },
  {
   "cell_type": "code",
   "execution_count": 8,
   "id": "dcce12de",
   "metadata": {},
   "outputs": [
    {
     "name": "stdout",
     "output_type": "stream",
     "text": [
      "Hacktiv8\n"
     ]
    }
   ],
   "source": [
    "# Function definition is here\n",
    "def printme( str ):\n",
    "   \"This prints a passed string into this function\"\n",
    "   print(str)\n",
    "   return;\n",
    "\n",
    "# Now you can call printme function\n",
    "printme(str = \"Hacktiv8\")"
   ]
  },
  {
   "cell_type": "code",
   "execution_count": 9,
   "id": "5c13acc1",
   "metadata": {},
   "outputs": [
    {
     "name": "stdout",
     "output_type": "stream",
     "text": [
      "Hacktiv8\n"
     ]
    }
   ],
   "source": [
    "# Function definition is here\n",
    "def printme( str ):\n",
    "   \"This prints a passed string into this function\"\n",
    "   print(str)\n",
    "   return;\n",
    "\n",
    "# Now you can call printme function\n",
    "printme(\"Hacktiv8\")"
   ]
  },
  {
   "cell_type": "code",
   "execution_count": 10,
   "id": "e48dea12",
   "metadata": {},
   "outputs": [
    {
     "name": "stdout",
     "output_type": "stream",
     "text": [
      "Name:  a\n",
      "Age:  4\n"
     ]
    }
   ],
   "source": [
    "\n",
    "# Function definition is here\n",
    "def printinfo( name, age ):\n",
    "   \"This prints a passed info into this function\"\n",
    "   print(\"Name: \", name)\n",
    "   print(\"Age: \", age)\n",
    "   return;\n",
    "\n",
    "# Now you can call printinfo function\n",
    "printinfo( age=4, name=\"a\" )"
   ]
  },
  {
   "cell_type": "code",
   "execution_count": 11,
   "id": "7542583d",
   "metadata": {},
   "outputs": [
    {
     "name": "stdout",
     "output_type": "stream",
     "text": [
      "Name:  hacktiv8\n",
      "Age:  50\n",
      "Name:  hacktiv\n",
      "Age:  26\n"
     ]
    }
   ],
   "source": [
    "# Function definition is here\n",
    "def printinfo( name, age = 26 ):\n",
    "   \"This prints a passed info into this function\"\n",
    "   print(\"Name: \", name)\n",
    "   print(\"Age: \", age)\n",
    "   return;\n",
    "\n",
    "# Now you can call printinfo function\n",
    "printinfo( age=50, name=\"hacktiv8\" )\n",
    "printinfo( name=\"hacktiv\" )\n"
   ]
  },
  {
   "cell_type": "code",
   "execution_count": 12,
   "id": "d9edb083",
   "metadata": {},
   "outputs": [
    {
     "name": "stdout",
     "output_type": "stream",
     "text": [
      "Output is: \n",
      "10\n",
      "Output is: \n",
      "70\n",
      "60\n",
      "50\n",
      "a\n"
     ]
    }
   ],
   "source": [
    "\n",
    "# Function definition is here\n",
    "def printinfo( arg1, *vartuple ):\n",
    "   \"This prints a variable passed arguments\"\n",
    "   print(\"Output is: \")\n",
    "   print(arg1)\n",
    "   for var in vartuple:\n",
    "      print(var)\n",
    "   return;\n",
    "\n",
    "# Now you can call printinfo function\n",
    "printinfo( 10 )\n",
    "printinfo( 70, 60, 50, \"a\" )"
   ]
  },
  {
   "cell_type": "code",
   "execution_count": 13,
   "id": "807a4457",
   "metadata": {},
   "outputs": [
    {
     "name": "stdout",
     "output_type": "stream",
     "text": [
      "Value of total :  None\n",
      "Value of total :  None\n"
     ]
    }
   ],
   "source": [
    "# Function definition is here\n",
    "sum = lambda arg1, arg2: arg1 + arg2;\n",
    "\n",
    "def sum(arg1, arg2):\n",
    "    arg1 + arg2\n",
    "    \n",
    "# Now you can call sum as a function\n",
    "print(\"Value of total : \", sum( 10, 20 ))\n",
    "print(\"Value of total : \", sum( 20, 20 ))"
   ]
  },
  {
   "cell_type": "code",
   "execution_count": 14,
   "id": "5f045f99",
   "metadata": {},
   "outputs": [
    {
     "name": "stdout",
     "output_type": "stream",
     "text": [
      "Inside the function :  30\n",
      "Outside the function :  40\n"
     ]
    }
   ],
   "source": [
    "# Function definition is here\n",
    "def sum(arg1, arg2):\n",
    "    # Add both the parameters and return them.\"\n",
    "    total = arg1 + arg2\n",
    "    total2 = total + arg1\n",
    "    print(\"Inside the function : \", total)\n",
    "    return total2\n",
    "\n",
    "# Now you can call sum function\n",
    "total = sum(10, 20)\n",
    "print(\"Outside the function : \", total)"
   ]
  },
  {
   "cell_type": "code",
   "execution_count": 15,
   "id": "9dac02d4",
   "metadata": {},
   "outputs": [
    {
     "ename": "IndentationError",
     "evalue": "expected an indented block (2357666270.py, line 12)",
     "output_type": "error",
     "traceback": [
      "\u001b[1;36m  Input \u001b[1;32mIn [15]\u001b[1;36m\u001b[0m\n\u001b[1;33m    sum( 10, 20 );\u001b[0m\n\u001b[1;37m    ^\u001b[0m\n\u001b[1;31mIndentationError\u001b[0m\u001b[1;31m:\u001b[0m expected an indented block\n"
     ]
    }
   ],
   "source": [
    "total = 0; \n",
    "\n",
    "def sum( arg1, arg2 ):\n",
    "\n",
    "   total = arg1 + arg2; \n",
    "   print(\"Inside the function local total : \", total)\n",
    "   return total;\n",
    "\n",
    "def min():\n",
    "    \n",
    "\n",
    "sum( 10, 20 );\n",
    "print(\"Outside the function global total : \", total)"
   ]
  },
  {
   "cell_type": "code",
   "execution_count": 16,
   "id": "758abf52",
   "metadata": {},
   "outputs": [
    {
     "name": "stdout",
     "output_type": "stream",
     "text": [
      "Inside the function :  30\n",
      "Outside the function :  40\n"
     ]
    }
   ],
   "source": [
    "# Function definition is here\n",
    "def sum(arg1, arg2):\n",
    "    # Add both the parameters and return them.\"\n",
    "    total = arg1 + arg2\n",
    "    total2 = total + arg1\n",
    "    print(\"Inside the function : \", total)\n",
    "    return total2\n",
    "\n",
    "# Now you can call sum function\n",
    "total = sum(10, 20)\n",
    "print(\"Outside the function : \", total)"
   ]
  },
  {
   "cell_type": "code",
   "execution_count": 17,
   "id": "c3ad281e",
   "metadata": {},
   "outputs": [
    {
     "name": "stdout",
     "output_type": "stream",
     "text": [
      "Masukkan angka: 123\n",
      "Bilangan 123 tergolong bilangan GANJIL\n"
     ]
    }
   ],
   "source": [
    "num = int(input(\"Masukkan angka: \"))  \n",
    "if (num % 2) == 0:  \n",
    "   print(\"Bilangan {0} tergolong bilangan GENAP\".format(num))  \n",
    "else:  \n",
    "   print(\"Bilangan {0} tergolong bilangan GANJIL\".format(num))  "
   ]
  },
  {
   "cell_type": "code",
   "execution_count": 18,
   "id": "c90b13fa",
   "metadata": {},
   "outputs": [
    {
     "name": "stdout",
     "output_type": "stream",
     "text": [
      "Masukkan angka: 0\n",
      "Bilangan 0 tergolong bilangan GENAP\n"
     ]
    }
   ],
   "source": [
    "num = int(input(\"Masukkan angka: \"))  \n",
    "if (num % 2) == 0:  \n",
    "   print(\"Bilangan {0} tergolong bilangan GENAP\".format(num))  \n",
    "elif num == 0:\n",
    "    print(\"0 bukanlah bilangan GANJIL atau GENAP\")\n",
    "else:  \n",
    "   print(\"Bilangan {0} tergolong bilangan GANJIL\".format(num))  "
   ]
  },
  {
   "cell_type": "code",
   "execution_count": 19,
   "id": "f4bb87c3",
   "metadata": {},
   "outputs": [
    {
     "name": "stdout",
     "output_type": "stream",
     "text": [
      "Masukkan angka: 0\n",
      "Bilangan 0 tergolong bilangan GENAP\n"
     ]
    }
   ],
   "source": [
    "num = int(input(\"Masukkan angka: \"))  \n",
    "if (num % 2) == 0:  \n",
    "   print(\"Bilangan {0} tergolong bilangan GENAP\".format(num))  \n",
    "elif num == 0:\n",
    "    print(\"0 bukanlah bilangan GANJIL atau GENAP\".format(num))\n",
    "else:  \n",
    "   print(\"Bilangan {0} tergolong bilangan GANJIL\".format(num))  "
   ]
  },
  {
   "cell_type": "code",
   "execution_count": 20,
   "id": "572641e3",
   "metadata": {},
   "outputs": [
    {
     "name": "stdout",
     "output_type": "stream",
     "text": [
      "Masukkan angka: 0\n",
      "0 bukanlah bilangan GANJIL atau GENAP\n"
     ]
    }
   ],
   "source": [
    "num = int(input(\"Masukkan angka: \"))  \n",
    "if num == 0:\n",
    "    print(\"0 bukanlah bilangan GANJIL atau GENAP\".format(num))\n",
    "elif (num % 2) > 0:  \n",
    "   print(\"Bilangan {0} tergolong bilangan GENAP\".format(num))  \n",
    "\n",
    "else:  \n",
    "   print(\"Bilangan {0} tergolong bilangan GANJIL\".format(num))  "
   ]
  },
  {
   "cell_type": "code",
   "execution_count": 21,
   "id": "2a2d6352",
   "metadata": {},
   "outputs": [
    {
     "name": "stdout",
     "output_type": "stream",
     "text": [
      "Masukkan angka: 2\n",
      "Bilangan 2 tergolong bilangan GANJIL\n"
     ]
    }
   ],
   "source": [
    "num = int(input(\"Masukkan angka: \"))  \n",
    "if num == 0:\n",
    "    print(\"0 bukanlah bilangan GANJIL atau GENAP\".format(num))\n",
    "elif (num % 2) > 0:  \n",
    "   print(\"Bilangan {0} tergolong bilangan GENAP\".format(num))  \n",
    "\n",
    "else:  \n",
    "   print(\"Bilangan {0} tergolong bilangan GANJIL\".format(num))  "
   ]
  },
  {
   "cell_type": "code",
   "execution_count": 22,
   "id": "89c0546e",
   "metadata": {},
   "outputs": [
    {
     "name": "stdout",
     "output_type": "stream",
     "text": [
      "Masukkan angka: 0\n",
      "0 bukanlah bilangan GANJIL atau GENAP\n"
     ]
    }
   ],
   "source": [
    "num = int(input(\"Masukkan angka: \"))  \n",
    "if num == 0:\n",
    "    print(\"0 bukanlah bilangan GANJIL atau GENAP\".format(num))\n",
    "elif (num % 2) == 0:  \n",
    "   print(\"Bilangan {0} tergolong bilangan GENAP\".format(num))  \n",
    "\n",
    "else:  \n",
    "   print(\"Bilangan {0} tergolong bilangan GANJIL\".format(num)) "
   ]
  },
  {
   "cell_type": "code",
   "execution_count": 23,
   "id": "8df06ddc",
   "metadata": {},
   "outputs": [
    {
     "ename": "SyntaxError",
     "evalue": "'break' outside loop (400941379.py, line 9)",
     "output_type": "error",
     "traceback": [
      "\u001b[1;36m  Input \u001b[1;32mIn [23]\u001b[1;36m\u001b[0m\n\u001b[1;33m    break\u001b[0m\n\u001b[1;37m    ^\u001b[0m\n\u001b[1;31mSyntaxError\u001b[0m\u001b[1;31m:\u001b[0m 'break' outside loop\n"
     ]
    }
   ],
   "source": [
    "def coba():\n",
    "    num = int(input(\"Masukkan angka: \"))  \n",
    "    if num == 0:\n",
    "        print(\"0 bukanlah bilangan GANJIL atau GENAP\".format(num))\n",
    "    elif (num % 2) > 0:  \n",
    "       print(\"Bilangan {0} tergolong bilangan GENAP\".format(num))  \n",
    "    else:  \n",
    "       print(\"Bilangan {0} tergolong bilangan GANJIL\".format(num)) \n",
    "    break"
   ]
  },
  {
   "cell_type": "code",
   "execution_count": 24,
   "id": "330dc52b",
   "metadata": {},
   "outputs": [
    {
     "ename": "SyntaxError",
     "evalue": "'break' outside loop (4229868033.py, line 9)",
     "output_type": "error",
     "traceback": [
      "\u001b[1;36m  Input \u001b[1;32mIn [24]\u001b[1;36m\u001b[0m\n\u001b[1;33m    break\u001b[0m\n\u001b[1;37m    ^\u001b[0m\n\u001b[1;31mSyntaxError\u001b[0m\u001b[1;31m:\u001b[0m 'break' outside loop\n"
     ]
    }
   ],
   "source": [
    "def coba():\n",
    "    num = int(input(\"Masukkan angka: \"))  \n",
    "    if num == 0:\n",
    "        print(\"0 bukanlah bilangan GANJIL atau GENAP\".format(num))\n",
    "    elif (num % 2) > 0:  \n",
    "       print(\"Bilangan {0} tergolong bilangan GENAP\".format(num))  \n",
    "    else:  \n",
    "       print(\"Bilangan {0} tergolong bilangan GANJIL\".format(num)) \n",
    "break"
   ]
  },
  {
   "cell_type": "code",
   "execution_count": 25,
   "id": "8ee657e0",
   "metadata": {},
   "outputs": [],
   "source": [
    "def coba():\n",
    "    num = int(input(\"Masukkan angka: \"))  \n",
    "    if num == 0:\n",
    "        print(\"0 bukanlah bilangan GANJIL atau GENAP\".format(num))\n",
    "    elif (num % 2) > 0:  \n",
    "       print(\"Bilangan {0} tergolong bilangan GENAP\".format(num))  \n",
    "    else:  \n",
    "       print(\"Bilangan {0} tergolong bilangan GANJIL\".format(num)) "
   ]
  },
  {
   "cell_type": "code",
   "execution_count": 26,
   "id": "83dc0d09",
   "metadata": {},
   "outputs": [
    {
     "name": "stdout",
     "output_type": "stream",
     "text": [
      "Masukkan angka: 0\n",
      "0 bukanlah bilangan GANJIL atau GENAP\n"
     ]
    }
   ],
   "source": [
    "coba()"
   ]
  },
  {
   "cell_type": "code",
   "execution_count": 27,
   "id": "b6b0c709",
   "metadata": {},
   "outputs": [
    {
     "name": "stdout",
     "output_type": "stream",
     "text": [
      "Masukkan angka: 2\n",
      "Bilangan 2 tergolong bilangan GANJIL\n"
     ]
    }
   ],
   "source": [
    "coba()"
   ]
  },
  {
   "cell_type": "code",
   "execution_count": 84,
   "id": "82fb33df",
   "metadata": {},
   "outputs": [
    {
     "name": "stdout",
     "output_type": "stream",
     "text": [
      "Masukkan angka: 40\n",
      "Bilangan 40 tergolong bilangan GENAP\n"
     ]
    }
   ],
   "source": [
    "def Soal1():\n",
    "    num = int(input(\"Masukkan angka: \"))  \n",
    "    if num < 0:\n",
    "        print(\"Tolong masukkan input bilangan POSITIF!!\")\n",
    "    elif num == 0:\n",
    "        print(\"0 bukanlah bilangan GANJIL atau GENAP\".format(num))\n",
    "    elif (num % 2) == 0:  \n",
    "       print(\"Bilangan {0} tergolong bilangan GENAP\".format(num))  \n",
    "    else:  \n",
    "       print(\"Bilangan {0} tergolong bilangan GANJIL\".format(num)) \n",
    "\n",
    "Soal1()"
   ]
  },
  {
   "cell_type": "code",
   "execution_count": 85,
   "id": "21617dd2",
   "metadata": {},
   "outputs": [
    {
     "name": "stdout",
     "output_type": "stream",
     "text": [
      "Masukkan Angka 1 untuk menghitung luas segitiga\n",
      "Masukkan Angka 2 untuk menghitung luas persegi\n",
      "Pilihan Menu Yang Diinginkan: 1\n",
      "Masukkan Tinggi Segitiga: 4\n",
      "Masukkan Alas Segitiga: 5\n",
      "Luas Segitiga Tersebut Adalah 10.0\n"
     ]
    }
   ],
   "source": [
    "def Soal2():\n",
    "    print(\"Masukkan Angka 1 untuk menghitung luas segitiga\")\n",
    "    print(\"Masukkan Angka 2 untuk menghitung luas persegi\")\n",
    "    num = int(input(\"Pilihan Menu Yang Diinginkan: \"))  \n",
    "    if num == 1:\n",
    "        a = int(input(\"Masukkan Tinggi Segitiga: \"))\n",
    "        b = int(input(\"Masukkan Alas Segitiga: \"))\n",
    "        c = a*b/2\n",
    "        print (\"Luas Segitiga Tersebut Adalah\", c)\n",
    "            \n",
    "    elif num == 2:\n",
    "        a = int(input(\"Masukkan Panjang Persegi: \"))\n",
    "        b = int(input(\"Masukkan Lebar Persegi: \"))\n",
    "        c = a*b\n",
    "        print (\"Luas Persegi Tersebut Adalah\", c)  \n",
    "    else:  \n",
    "       print(\"Masukkan Inputan yang Benar\") \n",
    "Soal2()"
   ]
  },
  {
   "cell_type": "code",
   "execution_count": 123,
   "id": "13b7f576",
   "metadata": {},
   "outputs": [],
   "source": [
    "def Soal3():\n",
    "\n",
    "    number_of_days = int(input(\"Masukkan jumlah hari: \"))\n",
    "    years = number_of_days // 360\n",
    "    months = (number_of_days - years *360) // 30\n",
    "    weeks = (number_of_days - years *360 -months*30) // 7\n",
    "    days = (number_of_days - years * 360 -months*30 - weeks*7) \n",
    "    print (number_of_days,\"hari =\",years,\"tahun\",months,\"bulan\",weeks,\"minggu\",days,\"hari\")"
   ]
  },
  {
   "cell_type": "code",
   "execution_count": 127,
   "id": "c4a301c8",
   "metadata": {},
   "outputs": [
    {
     "name": "stdout",
     "output_type": "stream",
     "text": [
      "Masukkan jumlah hari: 15\n",
      "15 hari = 0 tahun 0 bulan 2 minggu 1 hari\n"
     ]
    }
   ],
   "source": [
    "Soal3()"
   ]
  },
  {
   "cell_type": "code",
   "execution_count": null,
   "id": "8083c1de",
   "metadata": {},
   "outputs": [],
   "source": []
  }
 ],
 "metadata": {
  "kernelspec": {
   "display_name": "Python 3 (ipykernel)",
   "language": "python",
   "name": "python3"
  },
  "language_info": {
   "codemirror_mode": {
    "name": "ipython",
    "version": 3
   },
   "file_extension": ".py",
   "mimetype": "text/x-python",
   "name": "python",
   "nbconvert_exporter": "python",
   "pygments_lexer": "ipython3",
   "version": "3.9.12"
  }
 },
 "nbformat": 4,
 "nbformat_minor": 5
}
